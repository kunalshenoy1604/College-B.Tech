{
 "cells": [
  {
   "cell_type": "code",
   "execution_count": 17,
   "metadata": {},
   "outputs": [
    {
     "name": "stdout",
     "output_type": "stream",
     "text": [
      " This tool is an a beta stage\n",
      " Alexa developers can use Get Metrics API to seamlessly analyse metric\n",
      " It also supports custom skill model, prebuilt Flash Briefing model, and the Smart Home Skill API\n",
      " You can use this tool for creation of monitors, alarms, and dashboards that spotlight changes\n",
      " The release of these three tools will enable developers to create visual rich skills for Alexa devices with screens\n",
      " Amazon describes these tools as the collection of tech and tools for creating visually rich and interactive voice experiences\n",
      "  \n"
     ]
    }
   ],
   "source": [
    "text = \"\"\" This tool is an a beta stage. Alexa developers can use Get Metrics API to seamlessly analyse metric. It also supports custom skill model, prebuilt Flash Briefing model, and the Smart Home Skill API. You can use this tool for creation of monitors, alarms, and dashboards that spotlight changes. The release of these three tools will enable developers to create visual rich skills for Alexa devices with screens. Amazon describes these tools as the collection of tech and tools for creating visually rich and interactive voice experiences.  \"\"\"\n",
    "data = text.split('.')\n",
    "for i in data:\n",
    "    print(i)"
   ]
  },
  {
   "cell_type": "code",
   "execution_count": 4,
   "metadata": {},
   "outputs": [
    {
     "name": "stdout",
     "output_type": "stream",
     "text": [
      "Tesla,\n",
      "Inc.\n",
      "is\n",
      "an\n",
      "American\n",
      "automotive\n",
      "and\n",
      "energy\n",
      "company\n",
      "based\n",
      "in\n",
      "PAlo\n",
      "Alto,\n",
      "California.\n",
      "The\n",
      "company\n",
      "specializes\n",
      "in\n",
      "electric\n",
      "car\n",
      "manufacturing\n",
      "and,\n",
      "through\n",
      "its\n",
      "SolarCity\n",
      "subsidiary,\n",
      "solar\n",
      "panel\n",
      "manufacturing.\n"
     ]
    }
   ],
   "source": [
    "text = \"\"\" Tesla, Inc. is an American automotive and energy company based in PAlo Alto, California. The company specializes in electric car manufacturing and, through its SolarCity subsidiary, solar panel manufacturing. \"\"\"\n",
    "data = text.split()\n",
    "for i in data:\n",
    "    print (i)"
   ]
  },
  {
   "cell_type": "code",
   "execution_count": 21,
   "metadata": {},
   "outputs": [
    {
     "name": "stdout",
     "output_type": "stream",
     "text": [
      "String match \"Blue Berries\" at 0:12\n"
     ]
    }
   ],
   "source": [
    "import re\n",
    "s1 = 'Blue Berries,second application'\n",
    "s2 = 'Blue Berries'\n",
    "for match in re.finditer(s2, s1):\n",
    "    s = match.start()\n",
    "    e = match.end()\n",
    "    print ('String match \"%s\" at %d:%d' % (s1[s:e], s, e))"
   ]
  },
  {
   "cell_type": "code",
   "execution_count": 29,
   "metadata": {},
   "outputs": [
    {
     "name": "stdout",
     "output_type": "stream",
     "text": [
      "<re.Match object; span=(1, 2), match='I'>\n",
      "<re.Match object; span=(2, 3), match='n'>\n",
      "<re.Match object; span=(4, 5), match='t'>\n",
      "<re.Match object; span=(5, 6), match='h'>\n",
      "<re.Match object; span=(6, 7), match='i'>\n",
      "<re.Match object; span=(7, 8), match='s'>\n",
      "<re.Match object; span=(9, 10), match='s'>\n",
      "<re.Match object; span=(10, 11), match='t'>\n",
      "<re.Match object; span=(11, 12), match='r'>\n",
      "<re.Match object; span=(12, 13), match='i'>\n",
      "<re.Match object; span=(13, 14), match='n'>\n",
      "<re.Match object; span=(14, 15), match='g'>\n",
      "<re.Match object; span=(16, 17), match='y'>\n",
      "<re.Match object; span=(17, 18), match='o'>\n",
      "<re.Match object; span=(18, 19), match='u'>\n",
      "<re.Match object; span=(20, 21), match='a'>\n",
      "<re.Match object; span=(21, 22), match='r'>\n",
      "<re.Match object; span=(22, 23), match='e'>\n",
      "<re.Match object; span=(24, 25), match='t'>\n",
      "<re.Match object; span=(25, 26), match='o'>\n",
      "<re.Match object; span=(27, 28), match='f'>\n",
      "<re.Match object; span=(28, 29), match='i'>\n",
      "<re.Match object; span=(29, 30), match='n'>\n",
      "<re.Match object; span=(30, 31), match='d'>\n",
      "<re.Match object; span=(32, 33), match='o'>\n",
      "<re.Match object; span=(33, 34), match='u'>\n",
      "<re.Match object; span=(34, 35), match='t'>\n",
      "<re.Match object; span=(37, 38), match='h'>\n",
      "<re.Match object; span=(38, 39), match='o'>\n",
      "<re.Match object; span=(39, 40), match='w'>\n",
      "<re.Match object; span=(41, 42), match='d'>\n",
      "<re.Match object; span=(42, 43), match='o'>\n",
      "<re.Match object; span=(44, 45), match='w'>\n",
      "<re.Match object; span=(45, 46), match='e'>\n",
      "<re.Match object; span=(47, 48), match='f'>\n",
      "<re.Match object; span=(48, 49), match='i'>\n",
      "<re.Match object; span=(49, 50), match='n'>\n",
      "<re.Match object; span=(50, 51), match='d'>\n",
      "<re.Match object; span=(52, 53), match='t'>\n",
      "<re.Match object; span=(53, 54), match='h'>\n",
      "<re.Match object; span=(54, 55), match='e'>\n",
      "<re.Match object; span=(56, 57), match='m'>\n",
      "<re.Match object; span=(57, 58), match='a'>\n",
      "<re.Match object; span=(58, 59), match='t'>\n",
      "<re.Match object; span=(59, 60), match='c'>\n",
      "<re.Match object; span=(60, 61), match='h'>\n",
      "<re.Match object; span=(61, 62), match='i'>\n",
      "<re.Match object; span=(62, 63), match='n'>\n",
      "<re.Match object; span=(63, 64), match='g'>\n",
      "<re.Match object; span=(65, 66), match='s'>\n",
      "<re.Match object; span=(66, 67), match='t'>\n",
      "<re.Match object; span=(67, 68), match='r'>\n",
      "<re.Match object; span=(68, 69), match='i'>\n",
      "<re.Match object; span=(69, 70), match='n'>\n",
      "<re.Match object; span=(70, 71), match='g'>\n",
      "<re.Match object; span=(71, 72), match='s'>\n",
      "<re.Match object; span=(73, 74), match='u'>\n",
      "<re.Match object; span=(74, 75), match='s'>\n",
      "<re.Match object; span=(75, 76), match='i'>\n",
      "<re.Match object; span=(76, 77), match='n'>\n",
      "<re.Match object; span=(77, 78), match='g'>\n",
      "<re.Match object; span=(79, 80), match='r'>\n",
      "<re.Match object; span=(80, 81), match='e'>\n",
      "<re.Match object; span=(81, 82), match='g'>\n",
      "<re.Match object; span=(82, 83), match='e'>\n",
      "<re.Match object; span=(83, 84), match='x'>\n",
      "<re.Match object; span=(85, 86), match='l'>\n",
      "<re.Match object; span=(86, 87), match='i'>\n",
      "<re.Match object; span=(87, 88), match='b'>\n",
      "<re.Match object; span=(88, 89), match='r'>\n",
      "<re.Match object; span=(89, 90), match='a'>\n",
      "<re.Match object; span=(90, 91), match='r'>\n",
      "<re.Match object; span=(91, 92), match='y'>\n"
     ]
    }
   ],
   "source": [
    "import re\n",
    "text_to_search = \"\"\" In this string you are to find out, how do we find the matching strings using regex library \"\"\"\n",
    "pattern = re.compile('\\w')\n",
    "matches = pattern.finditer(text_to_search)\n",
    "for match in matches:\n",
    "    print(match)"
   ]
  },
  {
   "cell_type": "code",
   "execution_count": 34,
   "metadata": {},
   "outputs": [
    {
     "name": "stdout",
     "output_type": "stream",
     "text": [
      "['e', 'a', 'd', 'b', 'e', 'a']\n"
     ]
    }
   ],
   "source": [
    "# Module Regular Expression is imported using __import__().\n",
    "import re\n",
    "  \n",
    "# compile() creates regular expression character class [a-e],\n",
    "# which is equivalent to [abcde].\n",
    "# class [abcde] will match with string with 'a', 'b', 'c', 'd', 'e'.\n",
    "p = re.compile('[a-e]')\n",
    "  \n",
    "# findall() searches for the Regular Expression and return a list upon finding\n",
    "print(p.findall(\"Aye, said Mr. Gibenson Stark\"))\n"
   ]
  },
  {
   "cell_type": "markdown",
   "metadata": {},
   "source": [
    "\\d   Matches any decimal digit, this is equivalent\n",
    "     to the set class [0-9].\n",
    "\\D   Matches any non-digit character.\n",
    "\\s   Matches any whitespace character.\n",
    "\\S   Matches any non-whitespace character\n",
    "\\w   Matches any alphanumeric character, this is\n",
    "     equivalent to the class [a-zA-Z0-9_].\n",
    "\\W   Matches any non-alphanumeric character. "
   ]
  },
  {
   "cell_type": "code",
   "execution_count": 35,
   "metadata": {},
   "outputs": [
    {
     "name": "stdout",
     "output_type": "stream",
     "text": [
      "['1', '1', '4', '1', '8', '8', '6']\n",
      "['11', '4', '1886']\n"
     ]
    }
   ],
   "source": [
    "import re\n",
    "  \n",
    "# \\d is equivalent to [0-9].\n",
    "p = re.compile('\\d')\n",
    "print(p.findall(\"I went to him at 11 A.M. on 4th July 1886\"))\n",
    "  \n",
    "# \\d+ will match a group on [0-9], group of one or greater size\n",
    "p = re.compile('\\d+')\n",
    "print(p.findall(\"I went to him at 11 A.M. on 4th July 1886\"))"
   ]
  },
  {
   "cell_type": "code",
   "execution_count": 13,
   "metadata": {},
   "outputs": [
    {
     "name": "stdout",
     "output_type": "stream",
     "text": [
      "['H', 'e', 's', 'a', 'i', 'd', 'i', 'n', 's', 'o', 'm', 'e', '_', 'l', 'a', 'n', 'g']\n",
      "['I', 'went', 'to', 'him', 'at', '11', 'A', 'M', 'he', 'said', 'in', 'some_language']\n",
      "[' ', ' ', '*', '*', '*', ' ', ' ', '.']\n"
     ]
    }
   ],
   "source": [
    "import re\n",
    "  \n",
    "# \\w is equivalent to [a-zA-Z0-9_].\n",
    "p = re.compile('\\w')\n",
    "print(p.findall(\"He said * in some_lang.\"))\n",
    "  \n",
    "# \\w+ matches to group of alphanumeric character.\n",
    "p = re.compile('\\w+')\n",
    "print(p.findall(\"I went to him at 11 A.M., he said *** in some_language.\"))\n",
    "  \n",
    "# \\W matches to non alphanumeric characters.\n",
    "p = re.compile('\\W')\n",
    "print(p.findall(\"he said *** in some_language.\"))"
   ]
  },
  {
   "cell_type": "code",
   "execution_count": 38,
   "metadata": {},
   "outputs": [
    {
     "name": "stdout",
     "output_type": "stream",
     "text": [
      "['c', 'c', 'c', 'cd']\n"
     ]
    }
   ],
   "source": [
    "import re\n",
    "  \n",
    "# '*' replaces the no. of occurrence of a character.\n",
    "p = re.compile('cd*')\n",
    "print(p.findall(\"ababbaabbbaabbbaccaccd\"))"
   ]
  },
  {
   "cell_type": "markdown",
   "metadata": {},
   "source": [
    "Understanding the Output: \n",
    "Our RE is ab*, which ‘a’ accompanied by any no. of ‘b’s, starting from 0. \n",
    "Output ‘ab’, is valid because of single ‘a’ accompanied by single ‘b’. \n",
    "Output ‘abb’, is valid because of single ‘a’ accompanied by 2 ‘b’. \n",
    "Output ‘a’, is valid because of single ‘a’ accompanied by 0 ‘b’. \n",
    "Output ‘abbb’, is valid because of single ‘a’ accompanied by 3 ‘b’.\n"
   ]
  },
  {
   "cell_type": "markdown",
   "metadata": {},
   "source": [
    "Function split() \n",
    "Split string by the occurrences of a character or a pattern, upon finding that pattern, the remaining characters from the string are returned as part of the resulting list. \n",
    "Syntax : \n",
    " re.split(pattern, string, maxsplit=0, flags=0)\n",
    "\n",
    "\n",
    "The First parameter, pattern denotes the regular expression, string is the given string in which pattern will be searched for and in which splitting occurs, maxsplit if not provided is considered to be zero ‘0’, and if any nonzero value is provided, then at most that many splits occurs. If maxsplit = 1, then the string will split once only, resulting in a list of length 2. The flags are very useful and can help to shorten code, they are not necessary parameters, eg: flags = re.IGNORECASE, In this split, case will be ignored.\n",
    "\n"
   ]
  },
  {
   "cell_type": "code",
   "execution_count": 15,
   "metadata": {},
   "outputs": [
    {
     "name": "stdout",
     "output_type": "stream",
     "text": [
      "['Words', 'words', 'Words']\n",
      "['Word', 's', 'words', 'Words']\n",
      "['On', '12th', 'Jan', '2016', 'at', '11', '02', 'AM']\n",
      "['On ', 'th Jan ', ', at ', ':', ' AM']\n"
     ]
    }
   ],
   "source": [
    "from re import split\n",
    "  \n",
    "# '\\W+' denotes Non-Alphanumeric Characters or group of characters\n",
    "# Upon finding ',' or whitespace ' ', the split(), splits the string from that point\n",
    "print(split('\\W+', 'Words, words , Words'))\n",
    "print(split('\\W+', \"Word's words Words\"))\n",
    "  \n",
    "# Here ':', ' ' ,',' are not AlphaNumeric thus, the point where splitting occurs\n",
    "print(split('\\W+', 'On 12th Jan 2016, at 11:02 AM'))\n",
    "  \n",
    "# '\\d+' denotes Numeric Characters or group of characters\n",
    "# Splitting occurs at '12', '2016', '11', '02' only\n",
    "print(split('\\d+', 'On 12th Jan 2016, at 11:02 AM'))"
   ]
  },
  {
   "cell_type": "markdown",
   "metadata": {},
   "source": [
    "re.escape(string)\n",
    "\n",
    "\n",
    "Return string with all non-alphanumerics backslashed, this is useful if you want to match an arbitrary literal string that may have regular expression metacharacters in it.\n",
    "\n"
   ]
  },
  {
   "cell_type": "code",
   "execution_count": 16,
   "metadata": {},
   "outputs": [
    {
     "name": "stdout",
     "output_type": "stream",
     "text": [
      "This\\ is\\ Awseome\\ even\\ 1\\ AM\n",
      "I\\ Asked\\ what\\ is\\ this\\ \\[a\\-9\\],\\ he\\ said\\ \\\t\\ \\^WoW\n"
     ]
    }
   ],
   "source": [
    "import re\n",
    "  \n",
    "# escape() returns a string with BackSlash '\\', before every Non-Alphanumeric Character\n",
    "# In 1st case only ' ', is not alphanumeric\n",
    "# In 2nd case, ' ', caret '^', '-', '[]', '\\' are not alphanumeric\n",
    "print(re.escape(\"This is Awseome even 1 AM\"))\n",
    "print(re.escape(\"I Asked what is this [a-9], he said \\t ^WoW\"))"
   ]
  },
  {
   "cell_type": "code",
   "execution_count": 30,
   "metadata": {},
   "outputs": [
    {
     "name": "stdout",
     "output_type": "stream",
     "text": [
      "<re.Match object; span=(1, 2), match='I'>\n",
      "<re.Match object; span=(2, 3), match='n'>\n",
      "<re.Match object; span=(4, 5), match='t'>\n",
      "<re.Match object; span=(5, 6), match='h'>\n",
      "<re.Match object; span=(6, 7), match='i'>\n",
      "<re.Match object; span=(7, 8), match='s'>\n",
      "<re.Match object; span=(9, 10), match='s'>\n",
      "<re.Match object; span=(10, 11), match='t'>\n",
      "<re.Match object; span=(11, 12), match='r'>\n",
      "<re.Match object; span=(12, 13), match='i'>\n",
      "<re.Match object; span=(13, 14), match='n'>\n",
      "<re.Match object; span=(14, 15), match='g'>\n",
      "<re.Match object; span=(16, 17), match='y'>\n",
      "<re.Match object; span=(17, 18), match='o'>\n",
      "<re.Match object; span=(18, 19), match='u'>\n",
      "<re.Match object; span=(20, 21), match='a'>\n",
      "<re.Match object; span=(21, 22), match='r'>\n",
      "<re.Match object; span=(22, 23), match='e'>\n",
      "<re.Match object; span=(24, 25), match='t'>\n",
      "<re.Match object; span=(25, 26), match='o'>\n",
      "<re.Match object; span=(27, 28), match='f'>\n",
      "<re.Match object; span=(28, 29), match='i'>\n",
      "<re.Match object; span=(29, 30), match='n'>\n",
      "<re.Match object; span=(30, 31), match='d'>\n",
      "<re.Match object; span=(32, 33), match='o'>\n",
      "<re.Match object; span=(33, 34), match='u'>\n",
      "<re.Match object; span=(34, 35), match='t'>\n",
      "<re.Match object; span=(37, 38), match='h'>\n",
      "<re.Match object; span=(38, 39), match='o'>\n",
      "<re.Match object; span=(39, 40), match='w'>\n",
      "<re.Match object; span=(41, 42), match='d'>\n",
      "<re.Match object; span=(42, 43), match='o'>\n",
      "<re.Match object; span=(44, 45), match='w'>\n",
      "<re.Match object; span=(45, 46), match='e'>\n",
      "<re.Match object; span=(47, 48), match='f'>\n",
      "<re.Match object; span=(48, 49), match='i'>\n",
      "<re.Match object; span=(49, 50), match='n'>\n",
      "<re.Match object; span=(50, 51), match='d'>\n",
      "<re.Match object; span=(52, 53), match='t'>\n",
      "<re.Match object; span=(53, 54), match='h'>\n",
      "<re.Match object; span=(54, 55), match='e'>\n",
      "<re.Match object; span=(56, 57), match='m'>\n",
      "<re.Match object; span=(57, 58), match='a'>\n",
      "<re.Match object; span=(58, 59), match='t'>\n",
      "<re.Match object; span=(59, 60), match='c'>\n",
      "<re.Match object; span=(60, 61), match='h'>\n",
      "<re.Match object; span=(61, 62), match='i'>\n",
      "<re.Match object; span=(62, 63), match='n'>\n",
      "<re.Match object; span=(63, 64), match='g'>\n",
      "<re.Match object; span=(65, 66), match='s'>\n",
      "<re.Match object; span=(66, 67), match='t'>\n",
      "<re.Match object; span=(67, 68), match='r'>\n",
      "<re.Match object; span=(68, 69), match='i'>\n",
      "<re.Match object; span=(69, 70), match='n'>\n",
      "<re.Match object; span=(70, 71), match='g'>\n",
      "<re.Match object; span=(71, 72), match='s'>\n",
      "<re.Match object; span=(73, 74), match='u'>\n",
      "<re.Match object; span=(74, 75), match='s'>\n",
      "<re.Match object; span=(75, 76), match='i'>\n",
      "<re.Match object; span=(76, 77), match='n'>\n",
      "<re.Match object; span=(77, 78), match='g'>\n",
      "<re.Match object; span=(79, 80), match='r'>\n",
      "<re.Match object; span=(80, 81), match='e'>\n",
      "<re.Match object; span=(81, 82), match='g'>\n",
      "<re.Match object; span=(82, 83), match='e'>\n",
      "<re.Match object; span=(83, 84), match='x'>\n",
      "<re.Match object; span=(85, 86), match='l'>\n",
      "<re.Match object; span=(86, 87), match='i'>\n",
      "<re.Match object; span=(87, 88), match='b'>\n",
      "<re.Match object; span=(88, 89), match='r'>\n",
      "<re.Match object; span=(89, 90), match='a'>\n",
      "<re.Match object; span=(90, 91), match='r'>\n",
      "<re.Match object; span=(91, 92), match='y'>\n"
     ]
    }
   ],
   "source": [
    "import re\n",
    "text_to_search = \"\"\" In this string you are to find out, how do we find the matching strings using regex library \"\"\"\n",
    "pattern = re.compile('\\w')\n",
    "matches = pattern.finditer(text_to_search)\n",
    "for match in matches:\n",
    "    print(match)"
   ]
  },
  {
   "cell_type": "code",
   "execution_count": null,
   "metadata": {},
   "outputs": [],
   "source": []
  },
  {
   "cell_type": "code",
   "execution_count": null,
   "metadata": {},
   "outputs": [],
   "source": []
  }
 ],
 "metadata": {
  "kernelspec": {
   "display_name": "Python 3",
   "language": "python",
   "name": "python3"
  },
  "language_info": {
   "codemirror_mode": {
    "name": "ipython",
    "version": 3
   },
   "file_extension": ".py",
   "mimetype": "text/x-python",
   "name": "python",
   "nbconvert_exporter": "python",
   "pygments_lexer": "ipython3",
   "version": "3.8.5"
  }
 },
 "nbformat": 4,
 "nbformat_minor": 4
}
