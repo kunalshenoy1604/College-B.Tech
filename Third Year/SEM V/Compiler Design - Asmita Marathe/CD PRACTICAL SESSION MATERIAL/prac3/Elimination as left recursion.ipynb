{
 "cells": [
  {
   "cell_type": "code",
   "execution_count": null,
   "metadata": {},
   "outputs": [],
   "source": [
    "def expr():\n",
    "    if expr() and expect('+') and term():\n",
    "        return True\n",
    "    if term():\n",
    "        return True\n",
    "    return False"
   ]
  },
  {
   "cell_type": "markdown",
   "metadata": {},
   "source": [
    "So expr() starts by calling expr(), which starts by calling expr(), which starts by calling… This can only ends with a stack overflow, expressed as a RecursionError exception."
   ]
  },
  {
   "cell_type": "code",
   "execution_count": null,
   "metadata": {},
   "outputs": [],
   "source": [
    "str1=\"E->E+H|J\"\n",
    "x = str1.split(\"->\")\n",
    "print(x)\n",
    "y = x[1]\n",
    "print(y)\n",
    "x.pop()\n",
    "print(x)\n",
    "\n",
    "print()\n",
    "z = y.split(\"|\")\n",
    "print(z)\n",
    "x.append(z)\n",
    "print(x)\n",
    "print()\n",
    "print(x[0],\"=\",x[1])\n",
    "\n",
    "print(\"@@@@@@@\")\n",
    "\n",
    "gramA=\"E\"\n",
    "A=\"E+H,J\"\n",
    "\n",
    "print()\n",
    "c=1\n",
    "s=\"A\"+str(c)\n",
    "print(s)\n"
   ]
  },
  {
   "cell_type": "code",
   "execution_count": null,
   "metadata": {},
   "outputs": [],
   "source": [
    "str1=\"E->E+H|J\"\n",
    "x = str1.split(\"->\")\n",
    "print(x)\n",
    "y = x[1]\n",
    "print(y)\n",
    "x.pop()\n",
    "print(x)\n",
    "\n",
    "print()\n",
    "z = y.split(\"|\")\n",
    "print(z)\n",
    "x.append(z)\n",
    "print(x)\n",
    "print()\n",
    "print(x[0],\"=\",x[1])"
   ]
  },
  {
   "cell_type": "code",
   "execution_count": null,
   "metadata": {},
   "outputs": [],
   "source": [
    "str1=\"E->E+H|J\"\n",
    "x=str1.split(\"->\")\n",
    "print(x)"
   ]
  },
  {
   "cell_type": "code",
   "execution_count": null,
   "metadata": {},
   "outputs": [],
   "source": [
    "y=x[1]\n",
    "print(y)"
   ]
  },
  {
   "cell_type": "code",
   "execution_count": null,
   "metadata": {},
   "outputs": [],
   "source": [
    "x.pop()\n",
    "print(x)"
   ]
  },
  {
   "cell_type": "code",
   "execution_count": null,
   "metadata": {},
   "outputs": [],
   "source": [
    "z = y.split(\"|\")\n",
    "print(z)"
   ]
  },
  {
   "cell_type": "code",
   "execution_count": null,
   "metadata": {},
   "outputs": [],
   "source": [
    "x.append(z)\n",
    "print(x)"
   ]
  },
  {
   "cell_type": "code",
   "execution_count": null,
   "metadata": {},
   "outputs": [],
   "source": [
    "def fun():\n",
    "    print(\"hello from a function\")\n",
    "fun()"
   ]
  },
  {
   "cell_type": "code",
   "execution_count": null,
   "metadata": {},
   "outputs": [],
   "source": [
    "def my_fun(G):\n",
    "    print(G+ \"as\")\n",
    "my_fun(\"asmita\")\n",
    "my_fun(\"ma\")\n",
    "my_fun(\"aarsh\")"
   ]
  },
  {
   "cell_type": "markdown",
   "metadata": {},
   "source": [
    "Information can be passed into functions as arguments.\n",
    "\n",
    "Arguments are specified after the function name, inside the parentheses. You can add as many arguments as you want, just separate them with a comma.\n",
    "\n",
    "The following example has a function with one argument (fname). When the function is called, we pass along a first name, which is used inside the function to print the full name:"
   ]
  },
  {
   "cell_type": "code",
   "execution_count": null,
   "metadata": {},
   "outputs": [],
   "source": [
    "def my_fun(A,a):\n",
    "    print(A +\" \"+a)\n",
    "my_fun(\"Asmi\",\"marathe\")"
   ]
  },
  {
   "cell_type": "code",
   "execution_count": null,
   "metadata": {},
   "outputs": [],
   "source": [
    "def my_fun(B,G):\n",
    "    print(B + \" \" + G)\n",
    "my_fun(\"asmita\")"
   ]
  },
  {
   "cell_type": "code",
   "execution_count": null,
   "metadata": {},
   "outputs": [],
   "source": [
    "def my_fun(*name):\n",
    "    print(\"difeerent values are\" + name [1])\n",
    "my_fun(\"a\", \"f\", \"g\")"
   ]
  },
  {
   "cell_type": "code",
   "execution_count": null,
   "metadata": {},
   "outputs": [],
   "source": [
    "def my_fun(fruit1,fruit2,fruit3):\n",
    "    print(\"the youngest fruit is \"  +  fruit1)\n",
    "my_fun(fruit1=\"apple\",fruit2=\"banana\",fruit3=\"pinaaple\")"
   ]
  },
  {
   "cell_type": "markdown",
   "metadata": {},
   "source": [
    "If you do not know how many arguments that will be passed into your function, add a * before the parameter name in the function definition.\n",
    "\n",
    "This way the function will receive a tuple of arguments, and can access the items accordingly:"
   ]
  },
  {
   "cell_type": "code",
   "execution_count": null,
   "metadata": {},
   "outputs": [],
   "source": [
    "def fun(**fruit):\n",
    "    print(\"the young fruit is \"+ fruit[\"fname\"])\n",
    "fun(lname=\"apple\",name=\"banana\",name1=\"erw\",fname=\"ghh\")"
   ]
  },
  {
   "cell_type": "markdown",
   "metadata": {},
   "source": [
    "If you do not know how many keyword arguments that will be passed into your function, add two asterisk: ** before the parameter name in the function definition.\n",
    "\n",
    "This way the function will receive a dictionary of arguments, and can access the items accordingly:"
   ]
  },
  {
   "cell_type": "markdown",
   "metadata": {},
   "source": [
    "If the number of keyword arguments is unknown, add a double ** before the parameter name:"
   ]
  },
  {
   "cell_type": "code",
   "execution_count": null,
   "metadata": {},
   "outputs": [],
   "source": [
    "def fun(country =\"India\"):\n",
    "    print(\"i am from \"+ country)\n",
    "fun(\"england\")\n",
    "fun(\"norway\")\n",
    "fun()\n",
    "fun(\"australia\")"
   ]
  },
  {
   "cell_type": "markdown",
   "metadata": {},
   "source": [
    "Default Parameter Value\n",
    "The following example shows how to use a default parameter value.\n",
    "\n",
    "If we call the function without argument, it uses the default value:"
   ]
  },
  {
   "cell_type": "code",
   "execution_count": null,
   "metadata": {},
   "outputs": [],
   "source": [
    "def fun(food):\n",
    "    for x in food:\n",
    "        print(x)\n",
    "food=[\"vegetables\",\"fruits\",\"gains\"]\n",
    "fun(food)"
   ]
  },
  {
   "cell_type": "markdown",
   "metadata": {},
   "source": [
    "Passing a List as an Argument\n",
    "You can send any data types of argument to a function (string, number, list, dictionary etc.), and it will be treated as the same data type inside the function.\n",
    "\n",
    "E.g. if you send a List as an argument, it will still be a List when it reaches the function:"
   ]
  },
  {
   "cell_type": "code",
   "execution_count": null,
   "metadata": {},
   "outputs": [],
   "source": [
    "def my_fun(x):\n",
    "    return 5*x\n",
    "print(my_fun(3))\n",
    "print(my_fun(4))\n",
    "print(my_fun(9))"
   ]
  },
  {
   "cell_type": "markdown",
   "metadata": {},
   "source": [
    "Return Values\n",
    "To let a function return a value, use the return statement:"
   ]
  },
  {
   "cell_type": "code",
   "execution_count": null,
   "metadata": {},
   "outputs": [],
   "source": [
    "def my_fun():\n",
    "    pass"
   ]
  },
  {
   "cell_type": "markdown",
   "metadata": {},
   "source": [
    "The pass Statement\n",
    "function definitions cannot be empty, but if you for some reason have a function definition with no content, put in the pass statement to avoid getting an error."
   ]
  },
  {
   "cell_type": "code",
   "execution_count": null,
   "metadata": {},
   "outputs": [],
   "source": [
    "def tri_recursion(k):\n",
    "  if(k > 0):\n",
    "    result = k + tri_recursion(k - 1)\n",
    "    print(result)\n",
    "  else:\n",
    "    result = 0\n",
    "  return result\n",
    "\n",
    "print(\"\\n\\nRecursion Example Results\")\n",
    "tri_recursion(6)"
   ]
  },
  {
   "cell_type": "markdown",
   "metadata": {},
   "source": [
    "Recursion is a common mathematical and programming concept. It means that a function calls itself. This has the benefit of meaning that you can loop through data to reach a result.\n",
    "In this example, tri_recursion() is a function that we have defined to call itself (\"recurse\"). We use the k variable as the data, which decrements (-1) every time we recurse. The recursion ends when the condition is not greater than 0 (i.e. when it is 0)."
   ]
  },
  {
   "cell_type": "code",
   "execution_count": null,
   "metadata": {},
   "outputs": [],
   "source": [
    "lst = [\"easy\", \"simple\", \"cheap\", \"free\"]\n",
    "lst[-1]"
   ]
  },
  {
   "cell_type": "code",
   "execution_count": null,
   "metadata": {},
   "outputs": [],
   "source": [
    "lst = [3, 5, 7]\n",
    "lst.append(42)\n",
    "lst"
   ]
  },
  {
   "cell_type": "code",
   "execution_count": null,
   "metadata": {},
   "outputs": [],
   "source": [
    "lst = [3, 5, 7]\n",
    "lst = lst.append(42)\n",
    "print(lst)"
   ]
  },
  {
   "cell_type": "markdown",
   "metadata": {},
   "source": [
    "It's important to understand that append returns \"None\". In other words, it usually doesn't make sense to reassign the return value:"
   ]
  },
  {
   "cell_type": "code",
   "execution_count": null,
   "metadata": {},
   "outputs": [],
   "source": [
    "cities = [\"Hamburg\", \"Linz\", \"Salzburg\", \"Vienna\"]\n",
    "cities.pop(0)  \n"
   ]
  },
  {
   "cell_type": "code",
   "execution_count": null,
   "metadata": {},
   "outputs": [],
   "source": [
    "cities\n"
   ]
  },
  {
   "cell_type": "code",
   "execution_count": null,
   "metadata": {},
   "outputs": [],
   "source": [
    "cities.pop(1) "
   ]
  },
  {
   "cell_type": "code",
   "execution_count": null,
   "metadata": {},
   "outputs": [],
   "source": [
    "cities"
   ]
  },
  {
   "cell_type": "code",
   "execution_count": null,
   "metadata": {},
   "outputs": [],
   "source": [
    "cities = [\"Amsterdam\", \"The Hague\", \"Strasbourg\"]\n",
    "cities.pop()  "
   ]
  },
  {
   "cell_type": "markdown",
   "metadata": {},
   "source": [
    "s.pop()\n",
    "\n",
    "The method 'pop' can be called without an argument. In this case, the last element will be returned. So s.pop() is equivalent to s.pop(-1)."
   ]
  },
  {
   "cell_type": "code",
   "execution_count": null,
   "metadata": {},
   "outputs": [],
   "source": [
    "cities"
   ]
  },
  {
   "cell_type": "code",
   "execution_count": null,
   "metadata": {},
   "outputs": [],
   "source": [
    "lst = [42,98,77]\n",
    "lst2 = [8,69]\n",
    "lst.append(lst2)\n",
    "lst"
   ]
  },
  {
   "cell_type": "markdown",
   "metadata": {},
   "source": [
    "We saw that it is easy to append an object to a list. What about adding more than one element to a list? Maybe, you want to add all the elements of another list to your list. If you use append, the other list will be appended as a sublist, as we can see in the following example:"
   ]
  },
  {
   "cell_type": "code",
   "execution_count": null,
   "metadata": {},
   "outputs": [],
   "source": [
    "lst = [42,98,77]\n",
    "lst2 = [8,69]\n",
    "lst.extend(lst2)\n",
    "lst"
   ]
  },
  {
   "cell_type": "markdown",
   "metadata": {},
   "source": [
    "For this purpose, Python provides the method 'extend'. It extends a list by appending all the elements of an iterable like a list, a tuple or a string to a list:"
   ]
  },
  {
   "cell_type": "code",
   "execution_count": null,
   "metadata": {},
   "outputs": [],
   "source": [
    "lst = [\"a\", \"b\", \"c\"]\n",
    "programming_language = \"Python\"\n",
    "lst.extend(programming_language)\n",
    "print(lst)"
   ]
  },
  {
   "cell_type": "markdown",
   "metadata": {},
   "source": [
    "As we have mentioned, the argument of 'extend' doesn't have to be a list. It can be any kind of iterable. That is, we can use tuples and strings as well:\n",
    "\n"
   ]
  },
  {
   "cell_type": "code",
   "execution_count": null,
   "metadata": {},
   "outputs": [],
   "source": [
    "lst = [\"Java\", \"C\", \"PHP\"]\n",
    "t = (\"C#\", \"Jython\", \"Python\", \"IronPython\")\n",
    "lst.extend(t)\n",
    "lst"
   ]
  },
  {
   "cell_type": "code",
   "execution_count": null,
   "metadata": {},
   "outputs": [],
   "source": [
    "level = [\"beginner\", \"intermediate\", \"advanced\"]\n",
    "other_words = [\"novice\", \"expert\"]\n",
    "level + other_words"
   ]
  },
  {
   "cell_type": "markdown",
   "metadata": {},
   "source": [
    "Extending and Appending Lists with the '+' Operator"
   ]
  },
  {
   "cell_type": "code",
   "execution_count": null,
   "metadata": {},
   "outputs": [],
   "source": [
    "L = [3, 4]\n",
    "L = L + [42]\n",
    "L"
   ]
  },
  {
   "cell_type": "code",
   "execution_count": null,
   "metadata": {},
   "outputs": [],
   "source": [
    "L = [3, 4]\n",
    "L.append(42)\n",
    "L"
   ]
  },
  {
   "cell_type": "code",
   "execution_count": null,
   "metadata": {},
   "outputs": [],
   "source": [
    "L = [3, 4]\n",
    "L.extend([42])\n",
    "L"
   ]
  },
  {
   "cell_type": "code",
   "execution_count": null,
   "metadata": {},
   "outputs": [],
   "source": [
    "L = [3, 4]\n",
    "L += [42]\n",
    "L"
   ]
  },
  {
   "cell_type": "code",
   "execution_count": null,
   "metadata": {},
   "outputs": [],
   "source": [
    "import time\n",
    "\n",
    "n= 100000\n",
    "\n",
    "start_time = time.time()\n",
    "l = []\n",
    "for i in range(n):\n",
    "    l = l + [i * 2]\n",
    "print(time.time() - start_time)"
   ]
  },
  {
   "cell_type": "code",
   "execution_count": null,
   "metadata": {},
   "outputs": [],
   "source": [
    "start_time = time.time()\n",
    "l = []\n",
    "for i in range(n):\n",
    "    l += [i * 2]\n",
    "print(time.time() - start_time)"
   ]
  },
  {
   "cell_type": "code",
   "execution_count": null,
   "metadata": {},
   "outputs": [],
   "source": [
    "start_time = time.time()\n",
    "l = []\n",
    "for i in range(n):\n",
    "    l.append(i * 2)\n",
    "print(time.time() - start_time)"
   ]
  },
  {
   "cell_type": "markdown",
   "metadata": {},
   "source": [
    "We can see that the \"+\" operator is about 1268 times slower than the append method. The explanation is easy: If we use the append method, we will simply append a further element to the list in each loop pass. Now we come to the first loop, in which we use l = l + [i * 2]. The list will be copied in every loop pass. The new element will be added to the copy of the list and result will be reassigned to the variable l. After that, the old list will have to be removed by Python, because it is not referenced anymore. We can also see that the version with the augmented assignment (\"+=\"), the loop in the middle, is only slightly slower than the version using \"append\"."
   ]
  },
  {
   "cell_type": "code",
   "execution_count": null,
   "metadata": {},
   "outputs": [],
   "source": [
    "colours = [\"red\", \"green\", \"blue\", \"green\", \"yellow\"]\n",
    "colours.remove(\"green\")\n",
    "colours"
   ]
  },
  {
   "cell_type": "code",
   "execution_count": null,
   "metadata": {},
   "outputs": [],
   "source": [
    "colours = [\"red\", \"green\", \"blue\", \"green\", \"yellow\"]\n",
    "colours.index(\"green\")"
   ]
  },
  {
   "cell_type": "code",
   "execution_count": null,
   "metadata": {},
   "outputs": [],
   "source": [
    "colours.index(\"green\", 2)"
   ]
  },
  {
   "cell_type": "code",
   "execution_count": null,
   "metadata": {},
   "outputs": [],
   "source": [
    "colours.index(\"green\", 3,4)"
   ]
  },
  {
   "cell_type": "code",
   "execution_count": null,
   "metadata": {},
   "outputs": [],
   "source": [
    "colours.index(\"black\")"
   ]
  },
  {
   "cell_type": "code",
   "execution_count": null,
   "metadata": {},
   "outputs": [],
   "source": [
    "lst = [\"German is spoken\", \"in Germany,\", \"Austria\", \"Switzerland\"]\n",
    "lst.insert(3, \"and\")\n",
    "lst"
   ]
  },
  {
   "cell_type": "code",
   "execution_count": null,
   "metadata": {},
   "outputs": [],
   "source": [
    "abc = [\"a\",\"b\",\"c\"]\n",
    "abc.insert(len(abc),\"d\")\n",
    "abc"
   ]
  },
  {
   "cell_type": "markdown",
   "metadata": {},
   "source": [
    "We have learned that we can put an element to the end of a list by using the method \"append\". To work efficiently with a list, we need also a way to add elements to arbitrary positions inside of a list. This can be done with the method \"insert\":\n",
    "\n",
    " s.insert(index, object)\n",
    "An object \"object\" will be included in the list \"s\". \"object\" will be placed before the element s[index]. s[index] will be \"object\" and all the other elements will be moved one to the right."
   ]
  },
  {
   "cell_type": "code",
   "execution_count": null,
   "metadata": {},
   "outputs": [],
   "source": [
    "# Python3 program for pop() method\n",
    " \n",
    "list1 = [ 1, 2, 3, 4, 5, 6 ]\n",
    " \n",
    "# Pops and removes the last element from the list\n",
    "print(list1.pop())\n",
    " \n",
    "# Print list after removing last element\n",
    "print(\"New List after pop : \", list1, \"\\n\")\n",
    " \n",
    "list2 = [1, 2, 3, ('cat', 'bat'), 4]\n",
    " \n",
    "# Pop last three element\n",
    "print(list2.pop())\n",
    "print(list2.pop())\n",
    "print(list2.pop())\n",
    " \n",
    "# Print list\n",
    "print(\"New List after pop : \", list2, \"\\n\")"
   ]
  },
  {
   "cell_type": "code",
   "execution_count": null,
   "metadata": {},
   "outputs": [],
   "source": [
    "# Python3 program showing pop() method\n",
    "# and remaining list after each pop\n",
    " \n",
    "list1 = [ 1, 2, 3, 4, 5, 6 ]\n",
    " \n",
    "# Pops and removes the last\n",
    "# element from the list\n",
    "print(list1.pop(), list1)\n",
    " \n",
    "# Pops and removes the 0th index\n",
    "# element from the list\n",
    "print(list1.pop(0), list1)"
   ]
  },
  {
   "cell_type": "code",
   "execution_count": null,
   "metadata": {},
   "outputs": [],
   "source": [
    "# Python3 program demonstrating\n",
    "# practical use of list pop()\n",
    " \n",
    "fruit = [['Orange','Fruit'],['Banana','Fruit'], ['Mango', 'Fruit']]\n",
    "consume = ['Juice', 'Eat']\n",
    "possible = []\n",
    " \n",
    "# Iterating item in list fruit\n",
    "for item in fruit :\n",
    "     \n",
    "    # Inerating use in list consume\n",
    "    for use in consume :\n",
    "         \n",
    "        item.append(use)\n",
    "        possible.append(item[:])\n",
    "        item.pop(-1)\n",
    "print(possible)"
   ]
  },
  {
   "cell_type": "code",
   "execution_count": null,
   "metadata": {},
   "outputs": [],
   "source": [
    "import math\n",
    "\n",
    "def square_root(numbers):\n",
    "    result = []\n",
    "    for number in numbers:\n",
    "         result.append(math.sqrt(number))\n",
    "    return result\n",
    "\n",
    "\n",
    "numbers = [1, 4, 9, 16, 25, 36, 49, 64, 81]\n",
    "square_root(numbers)"
   ]
  },
  {
   "cell_type": "code",
   "execution_count": null,
   "metadata": {},
   "outputs": [],
   "source": [
    "# List\n",
    "list1 = [1, 2, 3, 4, 5, 6]\n",
    " \n",
    "# Inserting value\n",
    "list1.insert(0, 7)\n",
    " \n",
    "print(\"New List: \", list1)"
   ]
  },
  {
   "cell_type": "code",
   "execution_count": null,
   "metadata": {},
   "outputs": [],
   "source": [
    "oldlist = [\"a\", \"b\", \"c\", \"d\"]\n",
    "newList = oldlist.clear()\n",
    "print(newList)"
   ]
  },
  {
   "cell_type": "code",
   "execution_count": null,
   "metadata": {},
   "outputs": [],
   "source": [
    "nums = [14, 5, 4, 5, 7, 32]\n",
    " \n",
    "x = nums.index(5)\n",
    " \n",
    "print(x)"
   ]
  },
  {
   "cell_type": "code",
   "execution_count": null,
   "metadata": {},
   "outputs": [],
   "source": [
    "# vowels list\n",
    "vowels = ['a', 'e', 'i', 'o', 'i', 'u']\n",
    "\n",
    "# count element 'i'\n",
    "count = vowels.count('i')"
   ]
  },
  {
   "cell_type": "code",
   "execution_count": null,
   "metadata": {},
   "outputs": [],
   "source": [
    "# vowels list\n",
    "vowels = ['e', 'a', 'u', 'o', 'i']\n",
    " \n",
    "# sort the vowels\n",
    "vowels.sort()\n",
    " \n",
    "# print vowels\n",
    "print('Sorted list:', vowels)"
   ]
  },
  {
   "cell_type": "code",
   "execution_count": null,
   "metadata": {},
   "outputs": [],
   "source": [
    "list1 = [1, 4, 3, 6, 7]\n",
    " \n",
    "# Reversing List\n",
    "list1.reverse()\n",
    " \n",
    "print(list1)"
   ]
  },
  {
   "cell_type": "code",
   "execution_count": null,
   "metadata": {},
   "outputs": [],
   "source": [
    "import nltk\n",
    "\n",
    "grammar_string = '''\n",
    "S -> S 'and' S\n",
    "S -> S 'or' S\n",
    "S -> S 'but' S\n",
    "S -> S 'while' S\n",
    "S -> S 'when' S\n",
    "S -> 'Adam'|'slept'|'Josh'|'ate'|'the'|'dog'|'barked'\n",
    "'''\n",
    "\n",
    "sentence = \"Adam slept while Josh ate and the dog barked\"\n",
    "\n",
    "grammar = nltk.CFG.fromstring(grammar_string)\n",
    "\n",
    "rd_parser = nltk.RecursiveDescentParser(grammar)\n",
    "sent = sentence.split()\n",
    "for tree in rd_parser.parse(sent):\n",
    "    print(tree)"
   ]
  },
  {
   "cell_type": "markdown",
   "metadata": {},
   "source": [
    "factorial(3)          # 1st call with 3\n",
    "3 * factorial(2)      # 2nd call with 2\n",
    "3 * 2 * factorial(1)  # 3rd call with 1\n",
    "3 * 2 * 1             # return from 3rd call as number=1\n",
    "3 * 2                 # return from 2nd call\n",
    "6                     # return from 1st call"
   ]
  },
  {
   "cell_type": "code",
   "execution_count": 2,
   "metadata": {},
   "outputs": [
    {
     "name": "stdout",
     "output_type": "stream",
     "text": [
      "The factorial of 3 is 6\n"
     ]
    }
   ],
   "source": [
    "def factorial(x):\n",
    "    \"\"\"This is a recursive function\n",
    "    to find the factorial of an integer\"\"\"\n",
    "\n",
    "    if x == 1:\n",
    "        return 1\n",
    "    else:\n",
    "        return (x * factorial(x-1))\n",
    "\n",
    "\n",
    "num = 3\n",
    "print(\"The factorial of\", num, \"is\", factorial(num))"
   ]
  },
  {
   "cell_type": "code",
   "execution_count": 3,
   "metadata": {},
   "outputs": [
    {
     "name": "stdout",
     "output_type": "stream",
     "text": [
      "Fibonacci series:\n",
      "0\n",
      "1\n",
      "1\n",
      "2\n",
      "3\n",
      "5\n",
      "8\n",
      "13\n",
      "21\n",
      "34\n"
     ]
    }
   ],
   "source": [
    "# Program to print the fibonacci series upto n_terms\n",
    "  \n",
    "# Recursive function\n",
    "def recursive_fibonacci(n):\n",
    "   if n <= 1:\n",
    "       return n\n",
    "   else:\n",
    "       return(recursive_fibonacci(n-1) + recursive_fibonacci(n-2))\n",
    "   \n",
    "n_terms = 10\n",
    "   \n",
    "# check if the number of terms is valid\n",
    "if n_terms <= 0:\n",
    "   print(\"Invalid input ! Please input a positive value\")\n",
    "else:\n",
    "   print(\"Fibonacci series:\")\n",
    "   for i in range(n_terms):\n",
    "       print(recursive_fibonacci(i))"
   ]
  },
  {
   "cell_type": "code",
   "execution_count": 4,
   "metadata": {},
   "outputs": [
    {
     "name": "stdout",
     "output_type": "stream",
     "text": [
      "5\n",
      "4\n",
      "3\n",
      "2\n",
      "1\n",
      "0\n"
     ]
    }
   ],
   "source": [
    "def countdown(n):\n",
    "    print(n)\n",
    "    if n == 0:\n",
    "        return             # Terminate recursion\n",
    "    else:\n",
    "        countdown(n - 1)   # Recursive call\n",
    "\n",
    "\n",
    "countdown(5)"
   ]
  },
  {
   "cell_type": "code",
   "execution_count": null,
   "metadata": {},
   "outputs": [],
   "source": []
  }
 ],
 "metadata": {
  "kernelspec": {
   "display_name": "Python 3",
   "language": "python",
   "name": "python3"
  },
  "language_info": {
   "codemirror_mode": {
    "name": "ipython",
    "version": 3
   },
   "file_extension": ".py",
   "mimetype": "text/x-python",
   "name": "python",
   "nbconvert_exporter": "python",
   "pygments_lexer": "ipython3",
   "version": "3.8.5"
  }
 },
 "nbformat": 4,
 "nbformat_minor": 4
}
