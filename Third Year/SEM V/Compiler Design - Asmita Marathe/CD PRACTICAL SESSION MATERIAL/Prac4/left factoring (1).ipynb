{
 "cells": [
  {
   "cell_type": "markdown",
   "id": "a208befc",
   "metadata": {},
   "source": [
    "Removal of left factoring "
   ]
  },
  {
   "cell_type": "code",
   "execution_count": 1,
   "id": "f4ee1ed0",
   "metadata": {},
   "outputs": [
    {
     "name": "stdout",
     "output_type": "stream",
     "text": [
      "Enter the production: B->AS/AD\n",
      "B->AR\n",
      "R->S/D\n",
      "do you have another production?\n",
      "y/n:n\n"
     ]
    }
   ],
   "source": [
    "def leftFactoring(s):\n",
    " k=[]\n",
    " l=[]\n",
    " n=\"\"\n",
    " k=s.split('->')\n",
    " l=k[1].split('/')\n",
    " for i in range(0,len(l)-1):\n",
    "    for j in range(0,min(len(l[i]),len(l[i+1]))):\n",
    "        if(l[i][j]==l[i+1][j]):\n",
    "            if l[i][j] not in n:\n",
    "                n=n+l[i][j]\n",
    " print(k[0]+'->'+n+\"R\")\n",
    " m=k[1].split(n)\n",
    " print(\"R->\",end=\"\")\n",
    " for i in range(1,len(m)):\n",
    "    print(m[i],end=\"\")\n",
    "s=input(\"Enter the production: \")\n",
    "while(True):\n",
    "    leftFactoring(s)\n",
    "    print(\"\\ndo you have another production?\")\n",
    "    T=input(\"y/n:\")\n",
    "    if T=='y':\n",
    "        s=input(\"Enter the production: \")\n",
    "    elif T=='n':\n",
    "        break"
   ]
  },
  {
   "cell_type": "code",
   "execution_count": 3,
   "id": "f09bc21b",
   "metadata": {},
   "outputs": [
    {
     "name": "stdout",
     "output_type": "stream",
     "text": [
      "S->iEtSZ'\n",
      "Z'->ε |eS\n",
      "S->aY'\n",
      "Y'->ε \n"
     ]
    }
   ],
   "source": [
    "from itertools import takewhile\n",
    "def groupby(ls):\n",
    "    d = {}\n",
    "    ls = [ y[0] for y in rules ]\n",
    "    initial = list(set(ls))\n",
    "    for y in initial:\n",
    "        for i in rules:\n",
    "            if i.startswith(y):\n",
    "                if y not in d:\n",
    "                    d[y] = []\n",
    "                d[y].append(i)\n",
    "    return d\n",
    "\n",
    "def prefix(x):\n",
    "    return len(set(x)) == 1\n",
    "\n",
    "\n",
    "starting=\"\"\n",
    "rules=[]\n",
    "common=[]\n",
    "alphabetset=[\"A'\",\"B'\",\"C'\",\"D'\",\"E'\",\"F'\",\"G'\",\"H'\",\"I'\",\"J'\",\"K'\",\"L'\",\"M'\",\"N'\",\"O'\",\"P'\",\"Q'\",\"R'\",\"S'\",\"T'\",\"U'\",\"V'\",\"W'\",\"X'\",\"Y'\",\"Z'\"]\n",
    "\n",
    "\n",
    "s= \"S->iEtS|iEtSeS|a\"\n",
    "while(True):\n",
    "    rules=[]\n",
    "    common=[]\n",
    "    split=s.split(\"->\")\n",
    "    starting=split[0]\n",
    "    for i in split[1].split(\"|\"):\n",
    "        rules.append(i)\n",
    "\n",
    "#logic for taking commons out\n",
    "    for k, l in groupby(rules).items():\n",
    "        r = [l[0] for l in takewhile(prefix, zip(*l))]\n",
    "        common.append(''.join(r))\n",
    "#end of taking commons\n",
    "    for i in common:\n",
    "        newalphabet=alphabetset.pop()\n",
    "        print(starting+\"->\"+i+newalphabet)\n",
    "        index=[]\n",
    "        for k in rules:\n",
    "            if(k.startswith(i)):\n",
    "                index.append(k)\n",
    "        print(newalphabet+\"->\",end=\"\")\n",
    "        for j in index[:-1]:\n",
    "            stringtoprint=j.replace(i,\"\", 1)+\"|\"\n",
    "            if stringtoprint==\"|\":\n",
    "                print(\"\\u03B5\",\"|\",end=\"\")\n",
    "            else:\n",
    "                print(j.replace(i,\"\", 1)+\"|\",end=\"\")\n",
    "        stringtoprint=index[-1].replace(i,\"\", 1)+\"|\"\n",
    "        if stringtoprint==\"|\":\n",
    "            print(\"\\u03B5\",\"\",end=\"\")\n",
    "        else:\n",
    "            print(index[-1].replace(i,\"\", 1)+\"\",end=\"\")\n",
    "        print(\"\")\n",
    "    break"
   ]
  },
  {
   "cell_type": "code",
   "execution_count": null,
   "id": "7a37a24c",
   "metadata": {},
   "outputs": [],
   "source": []
  }
 ],
 "metadata": {
  "kernelspec": {
   "display_name": "Python 3",
   "language": "python",
   "name": "python3"
  },
  "language_info": {
   "codemirror_mode": {
    "name": "ipython",
    "version": 3
   },
   "file_extension": ".py",
   "mimetype": "text/x-python",
   "name": "python",
   "nbconvert_exporter": "python",
   "pygments_lexer": "ipython3",
   "version": "3.8.8"
  }
 },
 "nbformat": 4,
 "nbformat_minor": 5
}
