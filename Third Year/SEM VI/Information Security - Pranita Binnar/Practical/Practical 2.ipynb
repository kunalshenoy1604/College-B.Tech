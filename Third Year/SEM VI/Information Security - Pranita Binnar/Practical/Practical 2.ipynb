{
 "cells": [
  {
   "cell_type": "code",
   "execution_count": 5,
   "metadata": {},
   "outputs": [
    {
     "name": "stdout",
     "output_type": "stream",
     "text": [
      "Enter the password: Aarjav01\n",
      "Weak Password\n"
     ]
    }
   ],
   "source": [
    "import re\n",
    "pwd = input('Enter the password: ')\n",
    "flag = 0\n",
    "while True:  \n",
    "#   Password must be atleast 8 characters\n",
    "    if (len(pwd)<8):\n",
    "        flag = -1\n",
    "        break\n",
    "#   Password must have at least 1 lower case character    \n",
    "    elif not re.search(\"[a-z]\", pwd):\n",
    "        flag = -1\n",
    "        break\n",
    "#   Password must have at least 1 upper case character        \n",
    "    elif not re.search(\"[A-Z]\", pwd):\n",
    "        flag = -1\n",
    "        break\n",
    "#   Password must have at least 1 numeric character \n",
    "    elif not re.search(\"[0-9]\", pwd):\n",
    "        flag = -1\n",
    "        break\n",
    "#   Password must have at least 1 special character \n",
    "    elif not re.search(\"[@_!#$%^&*()<>?/\\|}{~:]\", pwd):\n",
    "        flag = -1\n",
    "        break\n",
    "    elif re.search(\"\\s\", pwd):\n",
    "        flag = -1\n",
    "        break\n",
    "    else:\n",
    "        flag = 0\n",
    "        print(\"Strong Password\")\n",
    "        break\n",
    "        \n",
    "if flag ==-1:\n",
    "    print(\"Weak Password\")"
   ]
  }
 ],
 "metadata": {
  "kernelspec": {
   "display_name": "Python 3",
   "language": "python",
   "name": "python3"
  },
  "language_info": {
   "codemirror_mode": {
    "name": "ipython",
    "version": 3
   },
   "file_extension": ".py",
   "mimetype": "text/x-python",
   "name": "python",
   "nbconvert_exporter": "python",
   "pygments_lexer": "ipython3",
   "version": "3.8.6"
  }
 },
 "nbformat": 4,
 "nbformat_minor": 4
}
